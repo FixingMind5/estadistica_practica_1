{
 "cells": [
  {
   "cell_type": "code",
   "execution_count": 54,
   "id": "8791b10b-3d49-442a-9d78-960c57fa7988",
   "metadata": {},
   "outputs": [],
   "source": [
    "import pandas as pd\n",
    "from statistics import mean, stdev, variance\n",
    "from math import sqrt"
   ]
  },
  {
   "cell_type": "markdown",
   "id": "594bb993-d152-44ee-ad60-89ec64c46c2c",
   "metadata": {},
   "source": [
    "# Muestreo simple"
   ]
  },
  {
   "cell_type": "markdown",
   "id": "106fa8b4-ad85-4b08-a0ab-57bfbe756564",
   "metadata": {},
   "source": [
    "### Error\n",
    "El error en la escala que está midiendo\n",
    "\n",
    "### Nivel de confianza\n",
    "Nos protege de salir la muestra mal, de manera que 95 de cada 100 muestras, sean buenas"
   ]
  },
  {
   "cell_type": "code",
   "execution_count": 55,
   "id": "044614aa-43cc-49d0-b4db-bcffc6f21ca6",
   "metadata": {},
   "outputs": [
    {
     "data": {
      "text/html": [
       "<div>\n",
       "<style scoped>\n",
       "    .dataframe tbody tr th:only-of-type {\n",
       "        vertical-align: middle;\n",
       "    }\n",
       "\n",
       "    .dataframe tbody tr th {\n",
       "        vertical-align: top;\n",
       "    }\n",
       "\n",
       "    .dataframe thead th {\n",
       "        text-align: right;\n",
       "    }\n",
       "</style>\n",
       "<table border=\"1\" class=\"dataframe\">\n",
       "  <thead>\n",
       "    <tr style=\"text-align: right;\">\n",
       "      <th></th>\n",
       "      <th>Periodo</th>\n",
       "      <th>Dato</th>\n",
       "    </tr>\n",
       "  </thead>\n",
       "  <tbody>\n",
       "    <tr>\n",
       "      <th>0</th>\n",
       "      <td>1988/12</td>\n",
       "      <td>560.100</td>\n",
       "    </tr>\n",
       "    <tr>\n",
       "      <th>1</th>\n",
       "      <td>1989/01</td>\n",
       "      <td>612.900</td>\n",
       "    </tr>\n",
       "    <tr>\n",
       "      <th>2</th>\n",
       "      <td>1989/02</td>\n",
       "      <td>560.700</td>\n",
       "    </tr>\n",
       "    <tr>\n",
       "      <th>3</th>\n",
       "      <td>1989/03</td>\n",
       "      <td>679.600</td>\n",
       "    </tr>\n",
       "    <tr>\n",
       "      <th>4</th>\n",
       "      <td>1989/04</td>\n",
       "      <td>692.500</td>\n",
       "    </tr>\n",
       "    <tr>\n",
       "      <th>...</th>\n",
       "      <td>...</td>\n",
       "      <td>...</td>\n",
       "    </tr>\n",
       "    <tr>\n",
       "      <th>355</th>\n",
       "      <td>2018/07</td>\n",
       "      <td>2604.085</td>\n",
       "    </tr>\n",
       "    <tr>\n",
       "      <th>356</th>\n",
       "      <td>2018/08</td>\n",
       "      <td>2723.639</td>\n",
       "    </tr>\n",
       "    <tr>\n",
       "      <th>357</th>\n",
       "      <td>2018/09</td>\n",
       "      <td>2774.869</td>\n",
       "    </tr>\n",
       "    <tr>\n",
       "      <th>358</th>\n",
       "      <td>2018/10</td>\n",
       "      <td>2685.094</td>\n",
       "    </tr>\n",
       "    <tr>\n",
       "      <th>359</th>\n",
       "      <td>2018/11</td>\n",
       "      <td>2353.787</td>\n",
       "    </tr>\n",
       "  </tbody>\n",
       "</table>\n",
       "<p>360 rows × 2 columns</p>\n",
       "</div>"
      ],
      "text/plain": [
       "     Periodo      Dato\n",
       "0    1988/12   560.100\n",
       "1    1989/01   612.900\n",
       "2    1989/02   560.700\n",
       "3    1989/03   679.600\n",
       "4    1989/04   692.500\n",
       "..       ...       ...\n",
       "355  2018/07  2604.085\n",
       "356  2018/08  2723.639\n",
       "357  2018/09  2774.869\n",
       "358  2018/10  2685.094\n",
       "359  2018/11  2353.787\n",
       "\n",
       "[360 rows x 2 columns]"
      ]
     },
     "execution_count": 55,
     "metadata": {},
     "output_type": "execute_result"
    }
   ],
   "source": [
    "file = 'exportaciones_petroleras_1988-2018.xlsx'\n",
    "df = pd.read_excel(file, sheet_name='tabla')\n",
    "df = df[[\"Periodo\", \"Dato\"]]\n",
    "df = df.dropna()\n",
    "df"
   ]
  },
  {
   "cell_type": "code",
   "execution_count": 56,
   "id": "335d4fd1-e3a4-4d50-bc72-fd092a3fe10c",
   "metadata": {},
   "outputs": [
    {
     "data": {
      "text/html": [
       "<div>\n",
       "<style scoped>\n",
       "    .dataframe tbody tr th:only-of-type {\n",
       "        vertical-align: middle;\n",
       "    }\n",
       "\n",
       "    .dataframe tbody tr th {\n",
       "        vertical-align: top;\n",
       "    }\n",
       "\n",
       "    .dataframe thead th {\n",
       "        text-align: right;\n",
       "    }\n",
       "</style>\n",
       "<table border=\"1\" class=\"dataframe\">\n",
       "  <thead>\n",
       "    <tr style=\"text-align: right;\">\n",
       "      <th></th>\n",
       "      <th>Periodo</th>\n",
       "      <th>Dato</th>\n",
       "    </tr>\n",
       "  </thead>\n",
       "  <tbody>\n",
       "    <tr>\n",
       "      <th>10</th>\n",
       "      <td>1989/10</td>\n",
       "      <td>692.200</td>\n",
       "    </tr>\n",
       "    <tr>\n",
       "      <th>216</th>\n",
       "      <td>2006/12</td>\n",
       "      <td>2627.182</td>\n",
       "    </tr>\n",
       "    <tr>\n",
       "      <th>323</th>\n",
       "      <td>2015/11</td>\n",
       "      <td>1521.594</td>\n",
       "    </tr>\n",
       "    <tr>\n",
       "      <th>0</th>\n",
       "      <td>1988/12</td>\n",
       "      <td>560.100</td>\n",
       "    </tr>\n",
       "    <tr>\n",
       "      <th>217</th>\n",
       "      <td>2007/01</td>\n",
       "      <td>2616.795</td>\n",
       "    </tr>\n",
       "  </tbody>\n",
       "</table>\n",
       "</div>"
      ],
      "text/plain": [
       "     Periodo      Dato\n",
       "10   1989/10   692.200\n",
       "216  2006/12  2627.182\n",
       "323  2015/11  1521.594\n",
       "0    1988/12   560.100\n",
       "217  2007/01  2616.795"
      ]
     },
     "execution_count": 56,
     "metadata": {},
     "output_type": "execute_result"
    }
   ],
   "source": [
    "muestreo_aleatorio = df.sample(n = 51)\n",
    "muestreo_aleatorio.head()"
   ]
  },
  {
   "cell_type": "code",
   "execution_count": 57,
   "id": "309d0e63-b903-411e-b0f4-6d81205a6ded",
   "metadata": {},
   "outputs": [
    {
     "data": {
      "text/plain": [
       "2000.6049411764707"
      ]
     },
     "execution_count": 57,
     "metadata": {},
     "output_type": "execute_result"
    }
   ],
   "source": [
    "promedio_muestreo = mean(muestreo_aleatorio[\"Dato\"])\n",
    "promedio_muestreo"
   ]
  },
  {
   "cell_type": "code",
   "execution_count": 58,
   "id": "8af12122-2562-42d3-baa4-9b2240df30a6",
   "metadata": {},
   "outputs": [
    {
     "data": {
      "text/plain": [
       "1994.9943722222222"
      ]
     },
     "execution_count": 58,
     "metadata": {},
     "output_type": "execute_result"
    }
   ],
   "source": [
    "promedio_total = mean(df[\"Dato\"])\n",
    "promedio_total"
   ]
  },
  {
   "cell_type": "code",
   "execution_count": 59,
   "id": "bcec9f5a-9d6d-4a01-abfd-23267ff6565d",
   "metadata": {},
   "outputs": [
    {
     "data": {
      "text/plain": [
       "1368.339865888116"
      ]
     },
     "execution_count": 59,
     "metadata": {},
     "output_type": "execute_result"
    }
   ],
   "source": [
    "desviacion_standard_total = stdev(df[\"Dato\"])\n",
    "desviacion_standard_total"
   ]
  },
  {
   "cell_type": "code",
   "execution_count": 60,
   "id": "7405c5b7-70bd-468b-86a7-bb25bd5c431a",
   "metadata": {},
   "outputs": [
    {
     "data": {
      "text/plain": [
       "1872353.9885787077"
      ]
     },
     "execution_count": 60,
     "metadata": {},
     "output_type": "execute_result"
    }
   ],
   "source": [
    "varianza_total = variance(df[\"Dato\"])\n",
    "varianza_total"
   ]
  },
  {
   "cell_type": "code",
   "execution_count": 61,
   "id": "2338c01c-73bc-4dc3-a701-bcacb543fba2",
   "metadata": {},
   "outputs": [
    {
     "data": {
      "text/plain": [
       "31511.840003857338"
      ]
     },
     "execution_count": 61,
     "metadata": {},
     "output_type": "execute_result"
    }
   ],
   "source": [
    "# Con 51 datos\n",
    "varianza_muestra = (1 - (51/360))*((varianza_total/51))\n",
    "varianza_muestra"
   ]
  },
  {
   "cell_type": "code",
   "execution_count": 62,
   "id": "7ee7d32c-3483-490e-aa82-9252615906b4",
   "metadata": {},
   "outputs": [
    {
     "data": {
      "text/plain": [
       "177.51574579134476"
      ]
     },
     "execution_count": 62,
     "metadata": {},
     "output_type": "execute_result"
    }
   ],
   "source": [
    "standard_error = sqrt(varianza_muestra)\n",
    "standard_error"
   ]
  },
  {
   "cell_type": "code",
   "execution_count": 63,
   "id": "95801946-9937-476b-9621-969e708cafaf",
   "metadata": {},
   "outputs": [
    {
     "data": {
      "text/plain": [
       "(1823.089195385126, 2178.1206869678153)"
      ]
     },
     "execution_count": 63,
     "metadata": {},
     "output_type": "execute_result"
    }
   ],
   "source": [
    "intervalo_media_error = (promedio_muestreo - standard_error, promedio_muestreo + standard_error )\n",
    "intervalo_media_error"
   ]
  },
  {
   "cell_type": "code",
   "execution_count": 64,
   "id": "403d5167-13e5-44cd-b2b5-2f0124ab8d15",
   "metadata": {},
   "outputs": [
    {
     "data": {
      "text/plain": [
       "(1823.089195385126, 2178.1206869678153)"
      ]
     },
     "execution_count": 64,
     "metadata": {},
     "output_type": "execute_result"
    }
   ],
   "source": [
    "# Contemplan el error estándar de nuestros estimadores\n",
    "# Error estandar: Cuánto te estás sesgando\n",
    "limites_de_confianza = (promedio_muestreo - standard_error, promedio_muestreo + standard_error )\n",
    "limites_de_confianza"
   ]
  },
  {
   "cell_type": "code",
   "execution_count": 65,
   "id": "86c7cd4d-da8f-4ffb-9bff-bc73901c453a",
   "metadata": {},
   "outputs": [
    {
     "data": {
      "text/plain": [
       "(1652.674079425435, 2348.535802927506)"
      ]
     },
     "execution_count": 65,
     "metadata": {},
     "output_type": "execute_result"
    }
   ],
   "source": [
    "limites_de_confianza_nivel = (promedio_muestreo - (1.96 * standard_error), promedio_muestreo + (1.96 * standard_error))\n",
    "limites_de_confianza_nivel"
   ]
  },
  {
   "cell_type": "markdown",
   "id": "28d7dde1-f32c-44af-b977-502198fc4165",
   "metadata": {},
   "source": [
    "# Muestreo Aleatorio Estratificado"
   ]
  },
  {
   "cell_type": "code",
   "execution_count": 67,
   "id": "618ad497-21fe-4079-a9d7-38a00a0e6754",
   "metadata": {},
   "outputs": [
    {
     "data": {
      "text/html": [
       "<div>\n",
       "<style scoped>\n",
       "    .dataframe tbody tr th:only-of-type {\n",
       "        vertical-align: middle;\n",
       "    }\n",
       "\n",
       "    .dataframe tbody tr th {\n",
       "        vertical-align: top;\n",
       "    }\n",
       "\n",
       "    .dataframe thead th {\n",
       "        text-align: right;\n",
       "    }\n",
       "</style>\n",
       "<table border=\"1\" class=\"dataframe\">\n",
       "  <thead>\n",
       "    <tr style=\"text-align: right;\">\n",
       "      <th></th>\n",
       "      <th>Periodo</th>\n",
       "      <th>Dato</th>\n",
       "    </tr>\n",
       "  </thead>\n",
       "  <tbody>\n",
       "    <tr>\n",
       "      <th>0</th>\n",
       "      <td>1988-12-01</td>\n",
       "      <td>560.100</td>\n",
       "    </tr>\n",
       "    <tr>\n",
       "      <th>1</th>\n",
       "      <td>1989-01-01</td>\n",
       "      <td>612.900</td>\n",
       "    </tr>\n",
       "    <tr>\n",
       "      <th>2</th>\n",
       "      <td>1989-02-01</td>\n",
       "      <td>560.700</td>\n",
       "    </tr>\n",
       "    <tr>\n",
       "      <th>3</th>\n",
       "      <td>1989-03-01</td>\n",
       "      <td>679.600</td>\n",
       "    </tr>\n",
       "    <tr>\n",
       "      <th>4</th>\n",
       "      <td>1989-04-01</td>\n",
       "      <td>692.500</td>\n",
       "    </tr>\n",
       "    <tr>\n",
       "      <th>...</th>\n",
       "      <td>...</td>\n",
       "      <td>...</td>\n",
       "    </tr>\n",
       "    <tr>\n",
       "      <th>355</th>\n",
       "      <td>2018-07-01</td>\n",
       "      <td>2604.085</td>\n",
       "    </tr>\n",
       "    <tr>\n",
       "      <th>356</th>\n",
       "      <td>2018-08-01</td>\n",
       "      <td>2723.639</td>\n",
       "    </tr>\n",
       "    <tr>\n",
       "      <th>357</th>\n",
       "      <td>2018-09-01</td>\n",
       "      <td>2774.869</td>\n",
       "    </tr>\n",
       "    <tr>\n",
       "      <th>358</th>\n",
       "      <td>2018-10-01</td>\n",
       "      <td>2685.094</td>\n",
       "    </tr>\n",
       "    <tr>\n",
       "      <th>359</th>\n",
       "      <td>2018-11-01</td>\n",
       "      <td>2353.787</td>\n",
       "    </tr>\n",
       "  </tbody>\n",
       "</table>\n",
       "<p>360 rows × 2 columns</p>\n",
       "</div>"
      ],
      "text/plain": [
       "       Periodo      Dato\n",
       "0   1988-12-01   560.100\n",
       "1   1989-01-01   612.900\n",
       "2   1989-02-01   560.700\n",
       "3   1989-03-01   679.600\n",
       "4   1989-04-01   692.500\n",
       "..         ...       ...\n",
       "355 2018-07-01  2604.085\n",
       "356 2018-08-01  2723.639\n",
       "357 2018-09-01  2774.869\n",
       "358 2018-10-01  2685.094\n",
       "359 2018-11-01  2353.787\n",
       "\n",
       "[360 rows x 2 columns]"
      ]
     },
     "execution_count": 67,
     "metadata": {},
     "output_type": "execute_result"
    }
   ],
   "source": [
    "df[\"Periodo\"] = pd.to_datetime(df[\"Periodo\"])\n",
    "df"
   ]
  },
  {
   "cell_type": "code",
   "execution_count": 71,
   "id": "6cd086c4-7371-4018-ae7c-81ac4b988499",
   "metadata": {},
   "outputs": [
    {
     "data": {
      "text/plain": [
       "0       True\n",
       "1       True\n",
       "2       True\n",
       "3       True\n",
       "4       True\n",
       "       ...  \n",
       "355    False\n",
       "356    False\n",
       "357    False\n",
       "358    False\n",
       "359    False\n",
       "Name: Periodo, Length: 360, dtype: bool"
      ]
     },
     "execution_count": 71,
     "metadata": {},
     "output_type": "execute_result"
    }
   ],
   "source": [
    "muestra_1 = (df[\"Periodo\"] <= pd.Timestamp(1994, 11, 1))\n",
    "muestra_1"
   ]
  },
  {
   "cell_type": "code",
   "execution_count": 73,
   "id": "430c9d97-04f9-486a-b8d6-5179737649d5",
   "metadata": {},
   "outputs": [
    {
     "data": {
      "text/html": [
       "<div>\n",
       "<style scoped>\n",
       "    .dataframe tbody tr th:only-of-type {\n",
       "        vertical-align: middle;\n",
       "    }\n",
       "\n",
       "    .dataframe tbody tr th {\n",
       "        vertical-align: top;\n",
       "    }\n",
       "\n",
       "    .dataframe thead th {\n",
       "        text-align: right;\n",
       "    }\n",
       "</style>\n",
       "<table border=\"1\" class=\"dataframe\">\n",
       "  <thead>\n",
       "    <tr style=\"text-align: right;\">\n",
       "      <th></th>\n",
       "      <th>Periodo</th>\n",
       "      <th>Dato</th>\n",
       "    </tr>\n",
       "  </thead>\n",
       "  <tbody>\n",
       "    <tr>\n",
       "      <th>0</th>\n",
       "      <td>1988-12-01</td>\n",
       "      <td>560.100</td>\n",
       "    </tr>\n",
       "    <tr>\n",
       "      <th>1</th>\n",
       "      <td>1989-01-01</td>\n",
       "      <td>612.900</td>\n",
       "    </tr>\n",
       "    <tr>\n",
       "      <th>2</th>\n",
       "      <td>1989-02-01</td>\n",
       "      <td>560.700</td>\n",
       "    </tr>\n",
       "    <tr>\n",
       "      <th>3</th>\n",
       "      <td>1989-03-01</td>\n",
       "      <td>679.600</td>\n",
       "    </tr>\n",
       "    <tr>\n",
       "      <th>4</th>\n",
       "      <td>1989-04-01</td>\n",
       "      <td>692.500</td>\n",
       "    </tr>\n",
       "    <tr>\n",
       "      <th>...</th>\n",
       "      <td>...</td>\n",
       "      <td>...</td>\n",
       "    </tr>\n",
       "    <tr>\n",
       "      <th>67</th>\n",
       "      <td>1994-07-01</td>\n",
       "      <td>706.225</td>\n",
       "    </tr>\n",
       "    <tr>\n",
       "      <th>68</th>\n",
       "      <td>1994-08-01</td>\n",
       "      <td>675.660</td>\n",
       "    </tr>\n",
       "    <tr>\n",
       "      <th>69</th>\n",
       "      <td>1994-09-01</td>\n",
       "      <td>630.388</td>\n",
       "    </tr>\n",
       "    <tr>\n",
       "      <th>70</th>\n",
       "      <td>1994-10-01</td>\n",
       "      <td>685.613</td>\n",
       "    </tr>\n",
       "    <tr>\n",
       "      <th>71</th>\n",
       "      <td>1994-11-01</td>\n",
       "      <td>702.076</td>\n",
       "    </tr>\n",
       "  </tbody>\n",
       "</table>\n",
       "<p>72 rows × 2 columns</p>\n",
       "</div>"
      ],
      "text/plain": [
       "      Periodo     Dato\n",
       "0  1988-12-01  560.100\n",
       "1  1989-01-01  612.900\n",
       "2  1989-02-01  560.700\n",
       "3  1989-03-01  679.600\n",
       "4  1989-04-01  692.500\n",
       "..        ...      ...\n",
       "67 1994-07-01  706.225\n",
       "68 1994-08-01  675.660\n",
       "69 1994-09-01  630.388\n",
       "70 1994-10-01  685.613\n",
       "71 1994-11-01  702.076\n",
       "\n",
       "[72 rows x 2 columns]"
      ]
     },
     "execution_count": 73,
     "metadata": {},
     "output_type": "execute_result"
    }
   ],
   "source": [
    "muestra_1 = df[muestra_1]\n",
    "muestra_1"
   ]
  },
  {
   "cell_type": "code",
   "execution_count": 85,
   "id": "3fc35fcc-13a8-48e2-a6d1-7bae5b9cf5c3",
   "metadata": {},
   "outputs": [
    {
     "data": {
      "text/html": [
       "<div>\n",
       "<style scoped>\n",
       "    .dataframe tbody tr th:only-of-type {\n",
       "        vertical-align: middle;\n",
       "    }\n",
       "\n",
       "    .dataframe tbody tr th {\n",
       "        vertical-align: top;\n",
       "    }\n",
       "\n",
       "    .dataframe thead th {\n",
       "        text-align: right;\n",
       "    }\n",
       "</style>\n",
       "<table border=\"1\" class=\"dataframe\">\n",
       "  <thead>\n",
       "    <tr style=\"text-align: right;\">\n",
       "      <th></th>\n",
       "      <th>Periodo</th>\n",
       "      <th>Dato</th>\n",
       "    </tr>\n",
       "  </thead>\n",
       "  <tbody>\n",
       "    <tr>\n",
       "      <th>72</th>\n",
       "      <td>1994-12-01</td>\n",
       "      <td>674.875</td>\n",
       "    </tr>\n",
       "    <tr>\n",
       "      <th>73</th>\n",
       "      <td>1995-01-01</td>\n",
       "      <td>642.855</td>\n",
       "    </tr>\n",
       "    <tr>\n",
       "      <th>74</th>\n",
       "      <td>1995-02-01</td>\n",
       "      <td>681.240</td>\n",
       "    </tr>\n",
       "    <tr>\n",
       "      <th>75</th>\n",
       "      <td>1995-03-01</td>\n",
       "      <td>713.362</td>\n",
       "    </tr>\n",
       "    <tr>\n",
       "      <th>76</th>\n",
       "      <td>1995-04-01</td>\n",
       "      <td>715.572</td>\n",
       "    </tr>\n",
       "    <tr>\n",
       "      <th>...</th>\n",
       "      <td>...</td>\n",
       "      <td>...</td>\n",
       "    </tr>\n",
       "    <tr>\n",
       "      <th>139</th>\n",
       "      <td>2000-07-01</td>\n",
       "      <td>1265.428</td>\n",
       "    </tr>\n",
       "    <tr>\n",
       "      <th>140</th>\n",
       "      <td>2000-08-01</td>\n",
       "      <td>1541.605</td>\n",
       "    </tr>\n",
       "    <tr>\n",
       "      <th>141</th>\n",
       "      <td>2000-09-01</td>\n",
       "      <td>1497.740</td>\n",
       "    </tr>\n",
       "    <tr>\n",
       "      <th>142</th>\n",
       "      <td>2000-10-01</td>\n",
       "      <td>1565.812</td>\n",
       "    </tr>\n",
       "    <tr>\n",
       "      <th>143</th>\n",
       "      <td>2000-11-01</td>\n",
       "      <td>1240.905</td>\n",
       "    </tr>\n",
       "  </tbody>\n",
       "</table>\n",
       "<p>72 rows × 2 columns</p>\n",
       "</div>"
      ],
      "text/plain": [
       "       Periodo      Dato\n",
       "72  1994-12-01   674.875\n",
       "73  1995-01-01   642.855\n",
       "74  1995-02-01   681.240\n",
       "75  1995-03-01   713.362\n",
       "76  1995-04-01   715.572\n",
       "..         ...       ...\n",
       "139 2000-07-01  1265.428\n",
       "140 2000-08-01  1541.605\n",
       "141 2000-09-01  1497.740\n",
       "142 2000-10-01  1565.812\n",
       "143 2000-11-01  1240.905\n",
       "\n",
       "[72 rows x 2 columns]"
      ]
     },
     "execution_count": 85,
     "metadata": {},
     "output_type": "execute_result"
    }
   ],
   "source": [
    "muestra_2 = df[\"Periodo\"] <= pd.Timestamp(2000, 11, 30)\n",
    "muestra_2 = df[muestra_2]\n",
    "muestra_2_booleanos = muestra_2[\"Periodo\"] >= pd.Timestamp(1994, 12, 1)\n",
    "muestra_2 = muestra_2[muestra_2_booleanos]\n",
    "muestra_2"
   ]
  },
  {
   "cell_type": "code",
   "execution_count": 86,
   "id": "9923a2c8-b545-46cf-9a9b-11fca20b5606",
   "metadata": {},
   "outputs": [
    {
     "data": {
      "text/html": [
       "<div>\n",
       "<style scoped>\n",
       "    .dataframe tbody tr th:only-of-type {\n",
       "        vertical-align: middle;\n",
       "    }\n",
       "\n",
       "    .dataframe tbody tr th {\n",
       "        vertical-align: top;\n",
       "    }\n",
       "\n",
       "    .dataframe thead th {\n",
       "        text-align: right;\n",
       "    }\n",
       "</style>\n",
       "<table border=\"1\" class=\"dataframe\">\n",
       "  <thead>\n",
       "    <tr style=\"text-align: right;\">\n",
       "      <th></th>\n",
       "      <th>Periodo</th>\n",
       "      <th>Dato</th>\n",
       "    </tr>\n",
       "  </thead>\n",
       "  <tbody>\n",
       "    <tr>\n",
       "      <th>144</th>\n",
       "      <td>2000-12-01</td>\n",
       "      <td>1152.569</td>\n",
       "    </tr>\n",
       "    <tr>\n",
       "      <th>145</th>\n",
       "      <td>2001-01-01</td>\n",
       "      <td>1292.976</td>\n",
       "    </tr>\n",
       "    <tr>\n",
       "      <th>146</th>\n",
       "      <td>2001-02-01</td>\n",
       "      <td>1131.413</td>\n",
       "    </tr>\n",
       "    <tr>\n",
       "      <th>147</th>\n",
       "      <td>2001-03-01</td>\n",
       "      <td>1196.672</td>\n",
       "    </tr>\n",
       "    <tr>\n",
       "      <th>148</th>\n",
       "      <td>2001-04-01</td>\n",
       "      <td>1091.623</td>\n",
       "    </tr>\n",
       "    <tr>\n",
       "      <th>...</th>\n",
       "      <td>...</td>\n",
       "      <td>...</td>\n",
       "    </tr>\n",
       "    <tr>\n",
       "      <th>211</th>\n",
       "      <td>2006-07-01</td>\n",
       "      <td>3344.293</td>\n",
       "    </tr>\n",
       "    <tr>\n",
       "      <th>212</th>\n",
       "      <td>2006-08-01</td>\n",
       "      <td>3796.806</td>\n",
       "    </tr>\n",
       "    <tr>\n",
       "      <th>213</th>\n",
       "      <td>2006-09-01</td>\n",
       "      <td>2986.435</td>\n",
       "    </tr>\n",
       "    <tr>\n",
       "      <th>214</th>\n",
       "      <td>2006-10-01</td>\n",
       "      <td>2873.927</td>\n",
       "    </tr>\n",
       "    <tr>\n",
       "      <th>215</th>\n",
       "      <td>2006-11-01</td>\n",
       "      <td>2892.406</td>\n",
       "    </tr>\n",
       "  </tbody>\n",
       "</table>\n",
       "<p>72 rows × 2 columns</p>\n",
       "</div>"
      ],
      "text/plain": [
       "       Periodo      Dato\n",
       "144 2000-12-01  1152.569\n",
       "145 2001-01-01  1292.976\n",
       "146 2001-02-01  1131.413\n",
       "147 2001-03-01  1196.672\n",
       "148 2001-04-01  1091.623\n",
       "..         ...       ...\n",
       "211 2006-07-01  3344.293\n",
       "212 2006-08-01  3796.806\n",
       "213 2006-09-01  2986.435\n",
       "214 2006-10-01  2873.927\n",
       "215 2006-11-01  2892.406\n",
       "\n",
       "[72 rows x 2 columns]"
      ]
     },
     "execution_count": 86,
     "metadata": {},
     "output_type": "execute_result"
    }
   ],
   "source": [
    "muestra_3 = df[\"Periodo\"] <= pd.Timestamp(2006, 11, 30)\n",
    "muestra_3 = df[muestra_3]\n",
    "muestra_3_booleanos = muestra_3[\"Periodo\"] >= pd.Timestamp(2000, 12, 1)\n",
    "muestra_3 = muestra_3[muestra_3_booleanos]\n",
    "muestra_3"
   ]
  },
  {
   "cell_type": "code",
   "execution_count": 87,
   "id": "3061019c-3a2c-415c-83a9-a22cda5c4639",
   "metadata": {},
   "outputs": [
    {
     "data": {
      "text/html": [
       "<div>\n",
       "<style scoped>\n",
       "    .dataframe tbody tr th:only-of-type {\n",
       "        vertical-align: middle;\n",
       "    }\n",
       "\n",
       "    .dataframe tbody tr th {\n",
       "        vertical-align: top;\n",
       "    }\n",
       "\n",
       "    .dataframe thead th {\n",
       "        text-align: right;\n",
       "    }\n",
       "</style>\n",
       "<table border=\"1\" class=\"dataframe\">\n",
       "  <thead>\n",
       "    <tr style=\"text-align: right;\">\n",
       "      <th></th>\n",
       "      <th>Periodo</th>\n",
       "      <th>Dato</th>\n",
       "    </tr>\n",
       "  </thead>\n",
       "  <tbody>\n",
       "    <tr>\n",
       "      <th>216</th>\n",
       "      <td>2006-12-01</td>\n",
       "      <td>2627.182</td>\n",
       "    </tr>\n",
       "    <tr>\n",
       "      <th>217</th>\n",
       "      <td>2007-01-01</td>\n",
       "      <td>2616.795</td>\n",
       "    </tr>\n",
       "    <tr>\n",
       "      <th>218</th>\n",
       "      <td>2007-02-01</td>\n",
       "      <td>2801.280</td>\n",
       "    </tr>\n",
       "    <tr>\n",
       "      <th>219</th>\n",
       "      <td>2007-03-01</td>\n",
       "      <td>3161.571</td>\n",
       "    </tr>\n",
       "    <tr>\n",
       "      <th>220</th>\n",
       "      <td>2007-04-01</td>\n",
       "      <td>3129.579</td>\n",
       "    </tr>\n",
       "    <tr>\n",
       "      <th>...</th>\n",
       "      <td>...</td>\n",
       "      <td>...</td>\n",
       "    </tr>\n",
       "    <tr>\n",
       "      <th>283</th>\n",
       "      <td>2012-07-01</td>\n",
       "      <td>3787.515</td>\n",
       "    </tr>\n",
       "    <tr>\n",
       "      <th>284</th>\n",
       "      <td>2012-08-01</td>\n",
       "      <td>4809.888</td>\n",
       "    </tr>\n",
       "    <tr>\n",
       "      <th>285</th>\n",
       "      <td>2012-09-01</td>\n",
       "      <td>4573.095</td>\n",
       "    </tr>\n",
       "    <tr>\n",
       "      <th>286</th>\n",
       "      <td>2012-10-01</td>\n",
       "      <td>4641.024</td>\n",
       "    </tr>\n",
       "    <tr>\n",
       "      <th>287</th>\n",
       "      <td>2012-11-01</td>\n",
       "      <td>4315.928</td>\n",
       "    </tr>\n",
       "  </tbody>\n",
       "</table>\n",
       "<p>72 rows × 2 columns</p>\n",
       "</div>"
      ],
      "text/plain": [
       "       Periodo      Dato\n",
       "216 2006-12-01  2627.182\n",
       "217 2007-01-01  2616.795\n",
       "218 2007-02-01  2801.280\n",
       "219 2007-03-01  3161.571\n",
       "220 2007-04-01  3129.579\n",
       "..         ...       ...\n",
       "283 2012-07-01  3787.515\n",
       "284 2012-08-01  4809.888\n",
       "285 2012-09-01  4573.095\n",
       "286 2012-10-01  4641.024\n",
       "287 2012-11-01  4315.928\n",
       "\n",
       "[72 rows x 2 columns]"
      ]
     },
     "execution_count": 87,
     "metadata": {},
     "output_type": "execute_result"
    }
   ],
   "source": [
    "muestra_4 = df[\"Periodo\"] <= pd.Timestamp(2012, 11, 30)\n",
    "muestra_4 = df[muestra_4]\n",
    "muestra_4_booleanos = muestra_4[\"Periodo\"] >= pd.Timestamp(2006, 12, 1)\n",
    "muestra_4 = muestra_4[muestra_4_booleanos]\n",
    "muestra_4"
   ]
  },
  {
   "cell_type": "code",
   "execution_count": 89,
   "id": "c5cf9d0f-a5ce-41b8-ab8e-e3bbab5db859",
   "metadata": {},
   "outputs": [
    {
     "data": {
      "text/html": [
       "<div>\n",
       "<style scoped>\n",
       "    .dataframe tbody tr th:only-of-type {\n",
       "        vertical-align: middle;\n",
       "    }\n",
       "\n",
       "    .dataframe tbody tr th {\n",
       "        vertical-align: top;\n",
       "    }\n",
       "\n",
       "    .dataframe thead th {\n",
       "        text-align: right;\n",
       "    }\n",
       "</style>\n",
       "<table border=\"1\" class=\"dataframe\">\n",
       "  <thead>\n",
       "    <tr style=\"text-align: right;\">\n",
       "      <th></th>\n",
       "      <th>Periodo</th>\n",
       "      <th>Dato</th>\n",
       "    </tr>\n",
       "  </thead>\n",
       "  <tbody>\n",
       "    <tr>\n",
       "      <th>288</th>\n",
       "      <td>2012-12-01</td>\n",
       "      <td>3911.398</td>\n",
       "    </tr>\n",
       "    <tr>\n",
       "      <th>289</th>\n",
       "      <td>2013-01-01</td>\n",
       "      <td>4549.365</td>\n",
       "    </tr>\n",
       "    <tr>\n",
       "      <th>290</th>\n",
       "      <td>2013-02-01</td>\n",
       "      <td>4084.912</td>\n",
       "    </tr>\n",
       "    <tr>\n",
       "      <th>291</th>\n",
       "      <td>2013-03-01</td>\n",
       "      <td>4157.749</td>\n",
       "    </tr>\n",
       "    <tr>\n",
       "      <th>292</th>\n",
       "      <td>2013-04-01</td>\n",
       "      <td>4439.145</td>\n",
       "    </tr>\n",
       "    <tr>\n",
       "      <th>...</th>\n",
       "      <td>...</td>\n",
       "      <td>...</td>\n",
       "    </tr>\n",
       "    <tr>\n",
       "      <th>355</th>\n",
       "      <td>2018-07-01</td>\n",
       "      <td>2604.085</td>\n",
       "    </tr>\n",
       "    <tr>\n",
       "      <th>356</th>\n",
       "      <td>2018-08-01</td>\n",
       "      <td>2723.639</td>\n",
       "    </tr>\n",
       "    <tr>\n",
       "      <th>357</th>\n",
       "      <td>2018-09-01</td>\n",
       "      <td>2774.869</td>\n",
       "    </tr>\n",
       "    <tr>\n",
       "      <th>358</th>\n",
       "      <td>2018-10-01</td>\n",
       "      <td>2685.094</td>\n",
       "    </tr>\n",
       "    <tr>\n",
       "      <th>359</th>\n",
       "      <td>2018-11-01</td>\n",
       "      <td>2353.787</td>\n",
       "    </tr>\n",
       "  </tbody>\n",
       "</table>\n",
       "<p>72 rows × 2 columns</p>\n",
       "</div>"
      ],
      "text/plain": [
       "       Periodo      Dato\n",
       "288 2012-12-01  3911.398\n",
       "289 2013-01-01  4549.365\n",
       "290 2013-02-01  4084.912\n",
       "291 2013-03-01  4157.749\n",
       "292 2013-04-01  4439.145\n",
       "..         ...       ...\n",
       "355 2018-07-01  2604.085\n",
       "356 2018-08-01  2723.639\n",
       "357 2018-09-01  2774.869\n",
       "358 2018-10-01  2685.094\n",
       "359 2018-11-01  2353.787\n",
       "\n",
       "[72 rows x 2 columns]"
      ]
     },
     "execution_count": 89,
     "metadata": {},
     "output_type": "execute_result"
    }
   ],
   "source": [
    "muestra_5 = df[\"Periodo\"] <= pd.Timestamp(2018, 11, 30)\n",
    "muestra_5 = df[muestra_5]\n",
    "muestra_5_booleanos = muestra_5[\"Periodo\"] >= pd.Timestamp(2012, 12, 1)\n",
    "muestra_5 = muestra_5[muestra_5_booleanos]\n",
    "muestra_5"
   ]
  },
  {
   "cell_type": "code",
   "execution_count": 93,
   "id": "be8aab67-948e-4f6a-8c7d-a927ae723777",
   "metadata": {},
   "outputs": [],
   "source": [
    "df.to_csv(\"exportaciones_petroleras_1988-2018.csv\")"
   ]
  },
  {
   "cell_type": "code",
   "execution_count": null,
   "id": "56eb8e83-ddbf-4fb5-b293-88d98249362f",
   "metadata": {},
   "outputs": [],
   "source": []
  }
 ],
 "metadata": {
  "kernelspec": {
   "display_name": "Python 3 (ipykernel)",
   "language": "python",
   "name": "python3"
  },
  "language_info": {
   "codemirror_mode": {
    "name": "ipython",
    "version": 3
   },
   "file_extension": ".py",
   "mimetype": "text/x-python",
   "name": "python",
   "nbconvert_exporter": "python",
   "pygments_lexer": "ipython3",
   "version": "3.9.2"
  }
 },
 "nbformat": 4,
 "nbformat_minor": 5
}
